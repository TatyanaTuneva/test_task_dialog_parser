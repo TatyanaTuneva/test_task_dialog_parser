{
 "cells": [
  {
   "cell_type": "code",
   "execution_count": 570,
   "outputs": [],
   "source": [
    "import pandas as pd\n",
    "import re\n",
    "from nltk.tokenize import word_tokenize\n",
    "from pymorphy2 import MorphAnalyzer"
   ],
   "metadata": {
    "collapsed": false,
    "pycharm": {
     "name": "#%%\n"
    }
   }
  },
  {
   "cell_type": "code",
   "execution_count": 571,
   "outputs": [],
   "source": [
    "data = pd.read_csv('test_data.csv')"
   ],
   "metadata": {
    "collapsed": false,
    "pycharm": {
     "name": "#%%\n"
    }
   }
  },
  {
   "cell_type": "markdown",
   "source": [
    "Убираем из данных реплики клиента, так как они не нужны для анализа слов оператора"
   ],
   "metadata": {
    "collapsed": false,
    "pycharm": {
     "name": "#%% md\n"
    }
   }
  },
  {
   "cell_type": "code",
   "execution_count": 572,
   "outputs": [],
   "source": [
    "data = data[data.role == 'manager']"
   ],
   "metadata": {
    "collapsed": false,
    "pycharm": {
     "name": "#%%\n"
    }
   }
  },
  {
   "cell_type": "markdown",
   "source": [
    "Создаем структуру данных, в которую будет записываться информация о разговоре с клиентом"
   ],
   "metadata": {
    "collapsed": false,
    "pycharm": {
     "name": "#%% md\n"
    }
   }
  },
  {
   "cell_type": "code",
   "execution_count": 573,
   "outputs": [],
   "source": [
    "analyze = {i: {'greetings': None,\n",
    "               'greetings_line': None,\n",
    "               'name': None,\n",
    "               'name_line': None,\n",
    "               'company': None,\n",
    "               'company_line': None,\n",
    "               'farewell': None,\n",
    "               'farewell_line': None,\n",
    "               'greetings_and_farewell': None\n",
    "               } for i in data.dlg_id.unique()}"
   ],
   "metadata": {
    "collapsed": false,
    "pycharm": {
     "name": "#%%\n"
    }
   }
  },
  {
   "cell_type": "markdown",
   "source": [
    "Поиск нужных слов будет происходить с помощью регулярных выражений, так как перевод разговора в текст произошел без глобальных  ошибок, следовательно не нужно проводить лемматизацию текста"
   ],
   "metadata": {
    "collapsed": false,
    "pycharm": {
     "name": "#%% md\n"
    }
   }
  },
  {
   "cell_type": "code",
   "execution_count": 574,
   "outputs": [],
   "source": [
    "names_score = 0.5\n",
    "morph = MorphAnalyzer()\n",
    "greetings = 'привет|здравствуйте|доброе утро|добрый день|добрый вечер|доброй ночи|здравствуй|добрый утро'\n",
    "farewell = 'пока|до свидания|увидимся|до встречи'\n",
    "name = 'зовут|имя|это'\n",
    "company = 'компания'"
   ],
   "metadata": {
    "collapsed": false,
    "pycharm": {
     "name": "#%%\n"
    }
   }
  },
  {
   "cell_type": "markdown",
   "source": [
    "Данная функция нужна для морфологического анализа слов и будет использоваться при поиске названия компании"
   ],
   "metadata": {
    "collapsed": false,
    "pycharm": {
     "name": "#%% md\n"
    }
   }
  },
  {
   "cell_type": "code",
   "execution_count": 575,
   "outputs": [],
   "source": [
    "def word_parse(word: str) -> tuple[str, int]:\n",
    "    morph_parse = morph.parse(word)\n",
    "    tags = ''\n",
    "    for p in morph_parse:\n",
    "        tags += str(p.tag) + ','\n",
    "    return tags, len(morph_parse)"
   ],
   "metadata": {
    "collapsed": false,
    "pycharm": {
     "name": "#%%\n"
    }
   }
  },
  {
   "cell_type": "markdown",
   "source": [
    "При поиске каждого пункта для анализа сначала проверяем налиличие уже заполненных данных в каждом поле, далее ищем ключевые слова с помощью регулярных выражений"
   ],
   "metadata": {
    "collapsed": false,
    "pycharm": {
     "name": "#%% md\n"
    }
   }
  },
  {
   "cell_type": "code",
   "execution_count": 576,
   "outputs": [],
   "source": [
    "def text_analyze(dlg_id: int, line: int, text: str, analyze: dict) -> None:\n",
    "\n",
    "    lower_text = text.lower() # переводим текст в нижний регистр\n",
    "    tokenize_text = word_tokenize(lower_text) # токенизируем текст для последущего использования в поиске названия компании\n",
    "    len_line = len(tokenize_text)\n",
    "\n",
    "    if analyze[dlg_id]['greetings'] is None:\n",
    "        if re.findall(greetings, lower_text):\n",
    "            analyze[dlg_id]['greetings'] = re.findall(greetings, lower_text)[0]\n",
    "            analyze[dlg_id]['greetings_line'] = line\n",
    "\n",
    "    if analyze[dlg_id]['farewell'] is None:\n",
    "        if re.findall(farewell, lower_text):\n",
    "            analyze[dlg_id]['farewell'] = re.findall(farewell, lower_text)[0]\n",
    "            analyze[dlg_id]['farewell_line'] = line\n",
    "\n",
    "    # для поиска имени и названия компании необходимо найти ключевое слово\n",
    "    # от ключего слова отступаем в разные стороны, пока не найдем имя\n",
    "    # для поиска названия компании отступаем только в одну сторону\n",
    "    # поиск имени и компании осуществляется с помощью морфологического анализатора\n",
    "    if analyze[dlg_id]['name'] is None:\n",
    "        if re.findall(name, lower_text):\n",
    "            not_find_name = True\n",
    "            for word in tokenize_text:\n",
    "                if word in name and not_find_name:\n",
    "                    start = tokenize_text.index(word)\n",
    "                    count_of_words = 1\n",
    "\n",
    "                    if start - count_of_words >= 0 or start + count_of_words < len_line:\n",
    "                        for index in (start - count_of_words, start + count_of_words):\n",
    "                            for parse in morph.parse(tokenize_text[index]):\n",
    "                                if 'Name' in parse.tag and parse.score >= names_score:\n",
    "                                    analyze[dlg_id]['name'] = parse.word\n",
    "                                    analyze[dlg_id]['name_line'] = line\n",
    "                                    not_find_name = False\n",
    "                        count_of_words += 1\n",
    "\n",
    "    if analyze[dlg_id]['company'] is None:\n",
    "        if company in tokenize_text:\n",
    "\n",
    "            start = tokenize_text.index(company) + 1\n",
    "            company_name = ''\n",
    "            word = ''\n",
    "            company_is_valid = True\n",
    "\n",
    "            while company_is_valid:\n",
    "                company_name += word if company_name == '' else ' ' + word\n",
    "                word = tokenize_text[start]\n",
    "                tags, len_of_morph_parse = word_parse(word)\n",
    "                if not('NOUN' in tags or 'ADJF' in tags or len_of_morph_parse > 3):\n",
    "                    company_is_valid = False\n",
    "                start += 1\n",
    "\n",
    "            if company_name != '':\n",
    "                analyze[dlg_id]['company'] = company_name\n",
    "                analyze[dlg_id]['company_line'] = line"
   ],
   "metadata": {
    "collapsed": false,
    "pycharm": {
     "name": "#%%\n"
    }
   }
  },
  {
   "cell_type": "markdown",
   "source": [
    "В цикле вызываем процедуру заполнения структуры для анализа"
   ],
   "metadata": {
    "collapsed": false,
    "pycharm": {
     "name": "#%% md\n"
    }
   }
  },
  {
   "cell_type": "code",
   "execution_count": 577,
   "outputs": [],
   "source": [
    "for row in data.itertuples():\n",
    "    text_analyze(row.dlg_id, row.line_n, row.text, analyze)"
   ],
   "metadata": {
    "collapsed": false,
    "pycharm": {
     "name": "#%%\n"
    }
   }
  },
  {
   "cell_type": "markdown",
   "source": [
    "Заполняем галочку, что менеджер поздоровался и попрощался"
   ],
   "metadata": {
    "collapsed": false,
    "pycharm": {
     "name": "#%% md\n"
    }
   }
  },
  {
   "cell_type": "code",
   "execution_count": 578,
   "outputs": [],
   "source": [
    "for i in analyze.values():\n",
    "    i['greetings_and_farewell'] = not(i['greetings'] is None or i['farewell'] is None)"
   ],
   "metadata": {
    "collapsed": false,
    "pycharm": {
     "name": "#%%\n"
    }
   }
  },
  {
   "cell_type": "markdown",
   "source": [
    "Ответ на задание"
   ],
   "metadata": {
    "collapsed": false,
    "pycharm": {
     "name": "#%% md\n"
    }
   }
  },
  {
   "cell_type": "code",
   "execution_count": 579,
   "outputs": [
    {
     "data": {
      "text/plain": "{0: {'greetings': 'здравствуйте',\n  'greetings_line': 1,\n  'name': 'ангелина',\n  'name_line': 3,\n  'company': 'диджитал бизнес',\n  'company_line': 3,\n  'farewell': 'до свидания',\n  'farewell_line': 108,\n  'greetings_and_farewell': True},\n 1: {'greetings': 'здравствуйте',\n  'greetings_line': 1,\n  'name': 'ангелина',\n  'name_line': 2,\n  'company': 'диджитал бизнес',\n  'company_line': 2,\n  'farewell': 'до свидания',\n  'farewell_line': 54,\n  'greetings_and_farewell': True},\n 2: {'greetings': 'здравствуйте',\n  'greetings_line': 2,\n  'name': 'ангелина',\n  'name_line': 3,\n  'company': 'диджитал бизнес',\n  'company_line': 3,\n  'farewell': None,\n  'farewell_line': None,\n  'greetings_and_farewell': False},\n 3: {'greetings': 'добрый день',\n  'greetings_line': 1,\n  'name': 'максим',\n  'name_line': 2,\n  'company': 'китобизнес',\n  'company_line': 2,\n  'farewell': None,\n  'farewell_line': None,\n  'greetings_and_farewell': False},\n 4: {'greetings': None,\n  'greetings_line': None,\n  'name': None,\n  'name_line': None,\n  'company': None,\n  'company_line': None,\n  'farewell': 'до свидания',\n  'farewell_line': 33,\n  'greetings_and_farewell': False},\n 5: {'greetings': None,\n  'greetings_line': None,\n  'name': 'анастасия',\n  'name_line': 1,\n  'company': None,\n  'company_line': None,\n  'farewell': 'до свидания',\n  'farewell_line': 142,\n  'greetings_and_farewell': False}}"
     },
     "execution_count": 579,
     "metadata": {},
     "output_type": "execute_result"
    }
   ],
   "source": [
    "analyze"
   ],
   "metadata": {
    "collapsed": false,
    "pycharm": {
     "name": "#%%\n"
    }
   }
  }
 ],
 "metadata": {
  "kernelspec": {
   "display_name": "Python 3",
   "language": "python",
   "name": "python3"
  },
  "language_info": {
   "codemirror_mode": {
    "name": "ipython",
    "version": 2
   },
   "file_extension": ".py",
   "mimetype": "text/x-python",
   "name": "python",
   "nbconvert_exporter": "python",
   "pygments_lexer": "ipython2",
   "version": "2.7.6"
  }
 },
 "nbformat": 4,
 "nbformat_minor": 0
}